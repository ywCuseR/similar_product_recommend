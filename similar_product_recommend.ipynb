{
 "cells": [
  {
   "cell_type": "code",
   "execution_count": 6,
   "id": "a7fefe76",
   "metadata": {},
   "outputs": [],
   "source": [
    "import pandas as pd\n",
    "from sklearn.metrics.pairwise import cosine_similarity\n",
    "from sklearn.preprocessing import LabelEncoder\n",
    "from scipy import sparse\n",
    "from scipy.sparse import coo_matrix\n",
    "from sklearn.cluster import KMeans\n",
    "from scipy.sparse import csr_matrix\n",
    "import numpy as np\n",
    "\n",
    "data_path = '../data'\n",
    "# === 1. 讀取資料 ===\n",
    "#df = pd.read_csv(\"C:/Users/user/Desktop/output/split_cluster_2_with_desc.csv\", usecols=['ShopMemberId', 'SalePageId'])\n",
    "# 讀取商品ID與標題\n",
    "#title = pd.read_csv(\"C:/Users/user/Desktop/output/split_cluster_2_with_desc.csv\", usecols=['SalePageId','SalePageTitle'])\n",
    "# 去除 SalePageId 重複，只保留第一次出現的那筆\n",
    "#title = title.drop_duplicates(subset='SalePageId', keep='first')\n"
   ]
  },
  {
   "cell_type": "code",
   "execution_count": 37,
   "id": "30cd0995",
   "metadata": {},
   "outputs": [],
   "source": [
    "df.to_csv('C:/Users/user/Desktop/member_item_count.csv', index=False, encoding='utf-8')\n",
    "title.to_csv('C:/Users/user/Desktop/SalePageTitle.csv', index=False, encoding='utf-8')\n"
   ]
  },
  {
   "cell_type": "code",
   "execution_count": 2,
   "id": "506c6a9d",
   "metadata": {},
   "outputs": [
    {
     "name": "stdout",
     "output_type": "stream",
     "text": [
      "不重複的商品數量（SalePageId）有: 35086\n",
      "不重複的會員數量（SalePageId）有: 27401\n",
      "資料集總筆數: 1097410\n"
     ]
    }
   ],
   "source": [
    "unique_product_count = df['SalePageId'].nunique()\n",
    "print(\"不重複的商品數量（SalePageId）有:\", unique_product_count)\n",
    "unique_member_count = df['ShopMemberId'].nunique()\n",
    "print(\"不重複的會員數量（SalePageId）有:\", unique_member_count)\n",
    "print(\"資料集總筆數:\", len(df))"
   ]
  },
  {
   "cell_type": "code",
   "execution_count": 7,
   "id": "25c8de24",
   "metadata": {},
   "outputs": [],
   "source": [
    "# === 2. 編碼會員與商品 ID 成數字編號 ===\n",
    "user_encoder = LabelEncoder()\n",
    "item_encoder = LabelEncoder()\n",
    "\n",
    "user_ids = user_encoder.fit_transform(df['ShopMemberId'])\n",
    "item_ids = item_encoder.fit_transform(df['SalePageId'])\n",
    "\n",
    "\n",
    "# === 3. 建立購買次數矩陣（稀疏） ===\n",
    "# 統計每個會員對每個商品的購買次數\n",
    "df['PurchaseCount'] = 1\n",
    "user_item_counts = pd.DataFrame({'user_id': user_ids, 'item_id': item_ids, 'count': 1})\n",
    "user_item_counts = user_item_counts.groupby(['user_id', 'item_id']).count().reset_index()\n",
    "\n",
    "# 建立 COO 稀疏矩陣，再轉 CSR 格式\n",
    "sparse_matrix = coo_matrix(\n",
    "    (user_item_counts['count'], (user_item_counts['user_id'], user_item_counts['item_id'])),\n",
    "    shape=(len(user_encoder.classes_), len(item_encoder.classes_))\n",
    ").tocsr()\n",
    "\n",
    "# 儲存向量空間\n",
    "sparse.save_npz(f'C:/Users/user/Desktop/user_item_matrix.npz', sparse_matrix)\n"
   ]
  },
  {
   "cell_type": "code",
   "execution_count": 34,
   "id": "109670e1",
   "metadata": {},
   "outputs": [],
   "source": [
    "# === 4. 建立推薦函數（用 Cosine 相似度） ===\n",
    "def recommend_items_sparse(target_user_id_str, sparse_matrix, user_encoder, item_encoder, top_n=5):\n",
    "    # 將會員字串 ID 轉為數字編號\n",
    "    if target_user_id_str not in user_encoder.classes_:\n",
    "        raise ValueError(\"會員 ID 不存在\")\n",
    "    \n",
    "    user_idx = user_encoder.transform([target_user_id_str])[0]\n",
    "\n",
    "    # 計算目標會員與其他會員的相似度\n",
    "    target_vector = sparse_matrix[user_idx]\n",
    "    similarities = cosine_similarity(target_vector, sparse_matrix).flatten()\n",
    "\n",
    "    # 排除自己\n",
    "    similarities[user_idx] = 0\n",
    "    similar_user_indices = similarities.argsort()[::-1][:20]  # 取前20名相似會員\n",
    "\n",
    "    # 彙總這些相似會員的商品購買\n",
    "    similar_users_matrix = sparse_matrix[similar_user_indices]\n",
    "    summed_scores = similar_users_matrix.sum(axis=0)\n",
    "\n",
    "    # 去除已購買的商品\n",
    "    target_items = sparse_matrix[user_idx].toarray().flatten()\n",
    "    summed_scores = summed_scores.A1  # Convert to flat array\n",
    "    summed_scores[target_items > 0] = 0\n",
    "\n",
    "    # 找出分數最高的商品\n",
    "    recommended_item_indices = summed_scores.argsort()[::-1][:top_n]\n",
    "\n",
    "    # 轉回原本的商品 ID\n",
    "    recommended_item_ids = item_encoder.inverse_transform(recommended_item_indices)\n",
    "\n",
    "    return recommended_item_ids\n"
   ]
  },
  {
   "cell_type": "code",
   "execution_count": 35,
   "id": "9c7d2a73",
   "metadata": {},
   "outputs": [
    {
     "name": "stdout",
     "output_type": "stream",
     "text": [
      "推薦給會員 bvYeaSNec+BrbPJrB/wCHPY3qvNx72H2fAxXqy58vIc= 的商品:\n",
      "1 .  【11月首購限定】KIRAGURIN螺旋極細刷毛牙刷\n",
      "2 .  Ora2me亮白香氛牙膏_沁心香橙薄荷香130g\n",
      "3 .  李施德霖薄荷除菌漱口水1+1(500+250ml)\n",
      "4 .  日本獅王細潔適齦佳極致8效漱口水600ml柑橘\n",
      "5 .  日本獅王細潔適齦佳極效8效牙膏柑橘薄荷95g\n"
     ]
    }
   ],
   "source": [
    "target_user_str_id = 'bvYeaSNec+BrbPJrB/wCHPY3qvNx72H2fAxXqy58vIc='  # 替換為任意會員 ID\n",
    "recommendations = recommend_items_sparse(target_user_str_id, sparse_matrix, user_encoder, item_encoder, top_n=5)\n",
    "\n",
    "# 你的推薦結果（SalePageId list）\n",
    "recommended_item_ids = recommendations  # 這是之前推薦函數回傳的 list 或 numpy array\n",
    "\n",
    "# 把推薦商品ID轉成 DataFrame\n",
    "rec_df = pd.DataFrame({'SalePageId': recommended_item_ids})\n",
    "\n",
    "# 將推薦結果和標題合併\n",
    "rec_with_title = rec_df.merge(title, on='SalePageId', how='left')\n",
    "print(\"推薦給會員\", target_user_str_id, \"的商品:\")\n",
    "for idx, row in rec_with_title.iterrows():\n",
    "    print(idx+1,\". \",row['SalePageTitle'])\n"
   ]
  },
  {
   "cell_type": "code",
   "execution_count": null,
   "id": "04d97927",
   "metadata": {},
   "outputs": [],
   "source": []
  }
 ],
 "metadata": {
  "kernelspec": {
   "display_name": "Python 3",
   "language": "python",
   "name": "python3"
  },
  "language_info": {
   "codemirror_mode": {
    "name": "ipython",
    "version": 3
   },
   "file_extension": ".py",
   "mimetype": "text/x-python",
   "name": "python",
   "nbconvert_exporter": "python",
   "pygments_lexer": "ipython3",
   "version": "3.8.8"
  }
 },
 "nbformat": 4,
 "nbformat_minor": 5
}
